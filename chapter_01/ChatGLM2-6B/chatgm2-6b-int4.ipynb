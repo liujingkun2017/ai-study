{
 "cells": [
  {
   "cell_type": "code",
   "execution_count": 1,
   "id": "04981af9-f3f8-47f1-ae26-c5315d8b8140",
   "metadata": {},
   "outputs": [
    {
     "name": "stdout",
     "output_type": "stream",
     "text": [
      "# conda environments:\n",
      "#\n",
      "base                     /opt/anaconda3\n",
      "Mastering-Transformers     /opt/anaconda3/envs/Mastering-Transformers\n",
      "ai-study              *  /opt/anaconda3/envs/ai-study\n",
      "\n",
      "\n",
      "Note: you may need to restart the kernel to use updated packages.\n"
     ]
    }
   ],
   "source": [
    "conda env list"
   ]
  },
  {
   "cell_type": "code",
   "execution_count": 2,
   "id": "f17b915a-9687-447f-9420-ae268c16f5ee",
   "metadata": {},
   "outputs": [
    {
     "name": "stdout",
     "output_type": "stream",
     "text": [
      "There are no unused tarball(s) to remove.\n",
      "There are no index cache(s) to remove.\n",
      "There are no unused package(s) to remove.\n",
      "There are no tempfile(s) to remove.\n",
      "There are no logfile(s) to remove.\n",
      "\n",
      "Note: you may need to restart the kernel to use updated packages.\n"
     ]
    }
   ],
   "source": [
    "conda clean -ay"
   ]
  },
  {
   "cell_type": "code",
   "execution_count": 3,
   "id": "ff32771c-85e8-498f-b867-de049ece15d0",
   "metadata": {},
   "outputs": [
    {
     "name": "stdout",
     "output_type": "stream",
     "text": [
      "Requirement already satisfied: protobuf in /opt/anaconda3/envs/ai-study/lib/python3.9/site-packages (from -r requirements.txt (line 1)) (5.27.2)\n",
      "Collecting transformers==4.30.2 (from -r requirements.txt (line 2))\n",
      "  Using cached transformers-4.30.2-py3-none-any.whl.metadata (113 kB)\n",
      "Requirement already satisfied: cpm_kernels in /opt/anaconda3/envs/ai-study/lib/python3.9/site-packages (from -r requirements.txt (line 3)) (1.0.11)\n",
      "Requirement already satisfied: torch>=2.0 in /opt/anaconda3/envs/ai-study/lib/python3.9/site-packages (from -r requirements.txt (line 4)) (2.2.2)\n",
      "Requirement already satisfied: gradio in /opt/anaconda3/envs/ai-study/lib/python3.9/site-packages (from -r requirements.txt (line 5)) (4.39.0)\n",
      "Requirement already satisfied: mdtex2html in /opt/anaconda3/envs/ai-study/lib/python3.9/site-packages (from -r requirements.txt (line 6)) (1.3.0)\n",
      "Requirement already satisfied: sentencepiece in /opt/anaconda3/envs/ai-study/lib/python3.9/site-packages (from -r requirements.txt (line 7)) (0.2.0)\n",
      "Requirement already satisfied: accelerate in /opt/anaconda3/envs/ai-study/lib/python3.9/site-packages (from -r requirements.txt (line 8)) (0.33.0)\n",
      "Requirement already satisfied: sse-starlette in /opt/anaconda3/envs/ai-study/lib/python3.9/site-packages (from -r requirements.txt (line 9)) (2.1.2)\n",
      "Requirement already satisfied: streamlit>=1.24.0 in /opt/anaconda3/envs/ai-study/lib/python3.9/site-packages (from -r requirements.txt (line 10)) (1.37.0)\n",
      "Requirement already satisfied: filelock in /opt/anaconda3/envs/ai-study/lib/python3.9/site-packages (from transformers==4.30.2->-r requirements.txt (line 2)) (3.15.4)\n",
      "Requirement already satisfied: huggingface-hub<1.0,>=0.14.1 in /opt/anaconda3/envs/ai-study/lib/python3.9/site-packages (from transformers==4.30.2->-r requirements.txt (line 2)) (0.24.3)\n",
      "Requirement already satisfied: numpy>=1.17 in /opt/anaconda3/envs/ai-study/lib/python3.9/site-packages (from transformers==4.30.2->-r requirements.txt (line 2)) (1.26.4)\n",
      "Requirement already satisfied: packaging>=20.0 in /opt/anaconda3/envs/ai-study/lib/python3.9/site-packages (from transformers==4.30.2->-r requirements.txt (line 2)) (24.1)\n",
      "Requirement already satisfied: pyyaml>=5.1 in /opt/anaconda3/envs/ai-study/lib/python3.9/site-packages (from transformers==4.30.2->-r requirements.txt (line 2)) (6.0.1)\n",
      "Requirement already satisfied: regex!=2019.12.17 in /opt/anaconda3/envs/ai-study/lib/python3.9/site-packages (from transformers==4.30.2->-r requirements.txt (line 2)) (2024.7.24)\n",
      "Requirement already satisfied: requests in /opt/anaconda3/envs/ai-study/lib/python3.9/site-packages (from transformers==4.30.2->-r requirements.txt (line 2)) (2.32.3)\n",
      "Collecting tokenizers!=0.11.3,<0.14,>=0.11.1 (from transformers==4.30.2->-r requirements.txt (line 2))\n",
      "  Using cached tokenizers-0.13.3-cp39-cp39-macosx_10_11_x86_64.whl.metadata (6.7 kB)\n",
      "Requirement already satisfied: safetensors>=0.3.1 in /opt/anaconda3/envs/ai-study/lib/python3.9/site-packages (from transformers==4.30.2->-r requirements.txt (line 2)) (0.4.3)\n",
      "Requirement already satisfied: tqdm>=4.27 in /opt/anaconda3/envs/ai-study/lib/python3.9/site-packages (from transformers==4.30.2->-r requirements.txt (line 2)) (4.66.4)\n",
      "Requirement already satisfied: typing-extensions>=4.8.0 in /opt/anaconda3/envs/ai-study/lib/python3.9/site-packages (from torch>=2.0->-r requirements.txt (line 4)) (4.11.0)\n",
      "Requirement already satisfied: sympy in /opt/anaconda3/envs/ai-study/lib/python3.9/site-packages (from torch>=2.0->-r requirements.txt (line 4)) (1.13.1)\n",
      "Requirement already satisfied: networkx in /opt/anaconda3/envs/ai-study/lib/python3.9/site-packages (from torch>=2.0->-r requirements.txt (line 4)) (3.2.1)\n",
      "Requirement already satisfied: jinja2 in /opt/anaconda3/envs/ai-study/lib/python3.9/site-packages (from torch>=2.0->-r requirements.txt (line 4)) (3.1.4)\n",
      "Requirement already satisfied: fsspec in /opt/anaconda3/envs/ai-study/lib/python3.9/site-packages (from torch>=2.0->-r requirements.txt (line 4)) (2024.6.1)\n",
      "Requirement already satisfied: aiofiles<24.0,>=22.0 in /opt/anaconda3/envs/ai-study/lib/python3.9/site-packages (from gradio->-r requirements.txt (line 5)) (23.2.1)\n",
      "Requirement already satisfied: anyio<5.0,>=3.0 in /opt/anaconda3/envs/ai-study/lib/python3.9/site-packages (from gradio->-r requirements.txt (line 5)) (4.2.0)\n",
      "Requirement already satisfied: fastapi in /opt/anaconda3/envs/ai-study/lib/python3.9/site-packages (from gradio->-r requirements.txt (line 5)) (0.111.1)\n",
      "Requirement already satisfied: ffmpy in /opt/anaconda3/envs/ai-study/lib/python3.9/site-packages (from gradio->-r requirements.txt (line 5)) (0.3.3)\n",
      "Requirement already satisfied: gradio-client==1.1.1 in /opt/anaconda3/envs/ai-study/lib/python3.9/site-packages (from gradio->-r requirements.txt (line 5)) (1.1.1)\n",
      "Requirement already satisfied: httpx>=0.24.1 in /opt/anaconda3/envs/ai-study/lib/python3.9/site-packages (from gradio->-r requirements.txt (line 5)) (0.27.0)\n",
      "Requirement already satisfied: importlib-resources<7.0,>=1.3 in /opt/anaconda3/envs/ai-study/lib/python3.9/site-packages (from gradio->-r requirements.txt (line 5)) (6.4.0)\n",
      "Requirement already satisfied: markupsafe~=2.0 in /opt/anaconda3/envs/ai-study/lib/python3.9/site-packages (from gradio->-r requirements.txt (line 5)) (2.1.3)\n",
      "Requirement already satisfied: matplotlib~=3.0 in /opt/anaconda3/envs/ai-study/lib/python3.9/site-packages (from gradio->-r requirements.txt (line 5)) (3.9.1)\n",
      "Requirement already satisfied: orjson~=3.0 in /opt/anaconda3/envs/ai-study/lib/python3.9/site-packages (from gradio->-r requirements.txt (line 5)) (3.10.6)\n",
      "Requirement already satisfied: pandas<3.0,>=1.0 in /opt/anaconda3/envs/ai-study/lib/python3.9/site-packages (from gradio->-r requirements.txt (line 5)) (2.2.2)\n",
      "Requirement already satisfied: pillow<11.0,>=8.0 in /opt/anaconda3/envs/ai-study/lib/python3.9/site-packages (from gradio->-r requirements.txt (line 5)) (10.4.0)\n",
      "Requirement already satisfied: pydantic>=2.0 in /opt/anaconda3/envs/ai-study/lib/python3.9/site-packages (from gradio->-r requirements.txt (line 5)) (2.8.2)\n",
      "Requirement already satisfied: pydub in /opt/anaconda3/envs/ai-study/lib/python3.9/site-packages (from gradio->-r requirements.txt (line 5)) (0.25.1)\n",
      "Requirement already satisfied: python-multipart>=0.0.9 in /opt/anaconda3/envs/ai-study/lib/python3.9/site-packages (from gradio->-r requirements.txt (line 5)) (0.0.9)\n",
      "Requirement already satisfied: ruff>=0.2.2 in /opt/anaconda3/envs/ai-study/lib/python3.9/site-packages (from gradio->-r requirements.txt (line 5)) (0.5.5)\n",
      "Requirement already satisfied: semantic-version~=2.0 in /opt/anaconda3/envs/ai-study/lib/python3.9/site-packages (from gradio->-r requirements.txt (line 5)) (2.10.0)\n",
      "Requirement already satisfied: tomlkit==0.12.0 in /opt/anaconda3/envs/ai-study/lib/python3.9/site-packages (from gradio->-r requirements.txt (line 5)) (0.12.0)\n",
      "Requirement already satisfied: typer<1.0,>=0.12 in /opt/anaconda3/envs/ai-study/lib/python3.9/site-packages (from gradio->-r requirements.txt (line 5)) (0.12.3)\n",
      "Requirement already satisfied: urllib3~=2.0 in /opt/anaconda3/envs/ai-study/lib/python3.9/site-packages (from gradio->-r requirements.txt (line 5)) (2.2.2)\n",
      "Requirement already satisfied: uvicorn>=0.14.0 in /opt/anaconda3/envs/ai-study/lib/python3.9/site-packages (from gradio->-r requirements.txt (line 5)) (0.30.3)\n",
      "Requirement already satisfied: websockets<12.0,>=10.0 in /opt/anaconda3/envs/ai-study/lib/python3.9/site-packages (from gradio-client==1.1.1->gradio->-r requirements.txt (line 5)) (11.0.3)\n",
      "Requirement already satisfied: markdown in /opt/anaconda3/envs/ai-study/lib/python3.9/site-packages (from mdtex2html->-r requirements.txt (line 6)) (3.6)\n",
      "Requirement already satisfied: latex2mathml in /opt/anaconda3/envs/ai-study/lib/python3.9/site-packages (from mdtex2html->-r requirements.txt (line 6)) (3.77.0)\n",
      "Requirement already satisfied: psutil in /opt/anaconda3/envs/ai-study/lib/python3.9/site-packages (from accelerate->-r requirements.txt (line 8)) (5.9.0)\n",
      "Requirement already satisfied: starlette in /opt/anaconda3/envs/ai-study/lib/python3.9/site-packages (from sse-starlette->-r requirements.txt (line 9)) (0.37.2)\n",
      "Requirement already satisfied: altair<6,>=4.0 in /opt/anaconda3/envs/ai-study/lib/python3.9/site-packages (from streamlit>=1.24.0->-r requirements.txt (line 10)) (5.3.0)\n",
      "Requirement already satisfied: blinker<2,>=1.0.0 in /opt/anaconda3/envs/ai-study/lib/python3.9/site-packages (from streamlit>=1.24.0->-r requirements.txt (line 10)) (1.8.2)\n",
      "Requirement already satisfied: cachetools<6,>=4.0 in /opt/anaconda3/envs/ai-study/lib/python3.9/site-packages (from streamlit>=1.24.0->-r requirements.txt (line 10)) (5.4.0)\n",
      "Requirement already satisfied: click<9,>=7.0 in /opt/anaconda3/envs/ai-study/lib/python3.9/site-packages (from streamlit>=1.24.0->-r requirements.txt (line 10)) (8.1.7)\n",
      "Requirement already satisfied: pyarrow>=7.0 in /opt/anaconda3/envs/ai-study/lib/python3.9/site-packages (from streamlit>=1.24.0->-r requirements.txt (line 10)) (17.0.0)\n",
      "Requirement already satisfied: rich<14,>=10.14.0 in /opt/anaconda3/envs/ai-study/lib/python3.9/site-packages (from streamlit>=1.24.0->-r requirements.txt (line 10)) (13.7.1)\n",
      "Requirement already satisfied: tenacity<9,>=8.1.0 in /opt/anaconda3/envs/ai-study/lib/python3.9/site-packages (from streamlit>=1.24.0->-r requirements.txt (line 10)) (8.5.0)\n",
      "Requirement already satisfied: toml<2,>=0.10.1 in /opt/anaconda3/envs/ai-study/lib/python3.9/site-packages (from streamlit>=1.24.0->-r requirements.txt (line 10)) (0.10.2)\n",
      "Requirement already satisfied: gitpython!=3.1.19,<4,>=3.0.7 in /opt/anaconda3/envs/ai-study/lib/python3.9/site-packages (from streamlit>=1.24.0->-r requirements.txt (line 10)) (3.1.43)\n",
      "Requirement already satisfied: pydeck<1,>=0.8.0b4 in /opt/anaconda3/envs/ai-study/lib/python3.9/site-packages (from streamlit>=1.24.0->-r requirements.txt (line 10)) (0.9.1)\n",
      "Requirement already satisfied: tornado<7,>=6.0.3 in /opt/anaconda3/envs/ai-study/lib/python3.9/site-packages (from streamlit>=1.24.0->-r requirements.txt (line 10)) (6.4.1)\n",
      "Requirement already satisfied: jsonschema>=3.0 in /opt/anaconda3/envs/ai-study/lib/python3.9/site-packages (from altair<6,>=4.0->streamlit>=1.24.0->-r requirements.txt (line 10)) (4.19.2)\n",
      "Requirement already satisfied: toolz in /opt/anaconda3/envs/ai-study/lib/python3.9/site-packages (from altair<6,>=4.0->streamlit>=1.24.0->-r requirements.txt (line 10)) (0.12.1)\n",
      "Requirement already satisfied: idna>=2.8 in /opt/anaconda3/envs/ai-study/lib/python3.9/site-packages (from anyio<5.0,>=3.0->gradio->-r requirements.txt (line 5)) (3.7)\n",
      "Requirement already satisfied: sniffio>=1.1 in /opt/anaconda3/envs/ai-study/lib/python3.9/site-packages (from anyio<5.0,>=3.0->gradio->-r requirements.txt (line 5)) (1.3.0)\n",
      "Requirement already satisfied: exceptiongroup>=1.0.2 in /opt/anaconda3/envs/ai-study/lib/python3.9/site-packages (from anyio<5.0,>=3.0->gradio->-r requirements.txt (line 5)) (1.2.0)\n",
      "Requirement already satisfied: gitdb<5,>=4.0.1 in /opt/anaconda3/envs/ai-study/lib/python3.9/site-packages (from gitpython!=3.1.19,<4,>=3.0.7->streamlit>=1.24.0->-r requirements.txt (line 10)) (4.0.11)\n",
      "Requirement already satisfied: certifi in /opt/anaconda3/envs/ai-study/lib/python3.9/site-packages (from httpx>=0.24.1->gradio->-r requirements.txt (line 5)) (2024.7.4)\n",
      "Requirement already satisfied: httpcore==1.* in /opt/anaconda3/envs/ai-study/lib/python3.9/site-packages (from httpx>=0.24.1->gradio->-r requirements.txt (line 5)) (1.0.5)\n",
      "Requirement already satisfied: h11<0.15,>=0.13 in /opt/anaconda3/envs/ai-study/lib/python3.9/site-packages (from httpcore==1.*->httpx>=0.24.1->gradio->-r requirements.txt (line 5)) (0.14.0)\n",
      "Requirement already satisfied: zipp>=3.1.0 in /opt/anaconda3/envs/ai-study/lib/python3.9/site-packages (from importlib-resources<7.0,>=1.3->gradio->-r requirements.txt (line 5)) (3.17.0)\n",
      "Requirement already satisfied: contourpy>=1.0.1 in /opt/anaconda3/envs/ai-study/lib/python3.9/site-packages (from matplotlib~=3.0->gradio->-r requirements.txt (line 5)) (1.2.1)\n",
      "Requirement already satisfied: cycler>=0.10 in /opt/anaconda3/envs/ai-study/lib/python3.9/site-packages (from matplotlib~=3.0->gradio->-r requirements.txt (line 5)) (0.12.1)\n",
      "Requirement already satisfied: fonttools>=4.22.0 in /opt/anaconda3/envs/ai-study/lib/python3.9/site-packages (from matplotlib~=3.0->gradio->-r requirements.txt (line 5)) (4.53.1)\n",
      "Requirement already satisfied: kiwisolver>=1.3.1 in /opt/anaconda3/envs/ai-study/lib/python3.9/site-packages (from matplotlib~=3.0->gradio->-r requirements.txt (line 5)) (1.4.5)\n",
      "Requirement already satisfied: pyparsing>=2.3.1 in /opt/anaconda3/envs/ai-study/lib/python3.9/site-packages (from matplotlib~=3.0->gradio->-r requirements.txt (line 5)) (3.1.2)\n",
      "Requirement already satisfied: python-dateutil>=2.7 in /opt/anaconda3/envs/ai-study/lib/python3.9/site-packages (from matplotlib~=3.0->gradio->-r requirements.txt (line 5)) (2.9.0.post0)\n",
      "Requirement already satisfied: pytz>=2020.1 in /opt/anaconda3/envs/ai-study/lib/python3.9/site-packages (from pandas<3.0,>=1.0->gradio->-r requirements.txt (line 5)) (2024.1)\n",
      "Requirement already satisfied: tzdata>=2022.7 in /opt/anaconda3/envs/ai-study/lib/python3.9/site-packages (from pandas<3.0,>=1.0->gradio->-r requirements.txt (line 5)) (2024.1)\n",
      "Requirement already satisfied: annotated-types>=0.4.0 in /opt/anaconda3/envs/ai-study/lib/python3.9/site-packages (from pydantic>=2.0->gradio->-r requirements.txt (line 5)) (0.7.0)\n",
      "Requirement already satisfied: pydantic-core==2.20.1 in /opt/anaconda3/envs/ai-study/lib/python3.9/site-packages (from pydantic>=2.0->gradio->-r requirements.txt (line 5)) (2.20.1)\n",
      "Requirement already satisfied: charset-normalizer<4,>=2 in /opt/anaconda3/envs/ai-study/lib/python3.9/site-packages (from requests->transformers==4.30.2->-r requirements.txt (line 2)) (3.3.2)\n",
      "Requirement already satisfied: markdown-it-py>=2.2.0 in /opt/anaconda3/envs/ai-study/lib/python3.9/site-packages (from rich<14,>=10.14.0->streamlit>=1.24.0->-r requirements.txt (line 10)) (3.0.0)\n",
      "Requirement already satisfied: pygments<3.0.0,>=2.13.0 in /opt/anaconda3/envs/ai-study/lib/python3.9/site-packages (from rich<14,>=10.14.0->streamlit>=1.24.0->-r requirements.txt (line 10)) (2.15.1)\n",
      "Requirement already satisfied: shellingham>=1.3.0 in /opt/anaconda3/envs/ai-study/lib/python3.9/site-packages (from typer<1.0,>=0.12->gradio->-r requirements.txt (line 5)) (1.5.4)\n",
      "Requirement already satisfied: fastapi-cli>=0.0.2 in /opt/anaconda3/envs/ai-study/lib/python3.9/site-packages (from fastapi->gradio->-r requirements.txt (line 5)) (0.0.4)\n",
      "Requirement already satisfied: email_validator>=2.0.0 in /opt/anaconda3/envs/ai-study/lib/python3.9/site-packages (from fastapi->gradio->-r requirements.txt (line 5)) (2.2.0)\n",
      "Requirement already satisfied: importlib-metadata>=4.4 in /opt/anaconda3/envs/ai-study/lib/python3.9/site-packages (from markdown->mdtex2html->-r requirements.txt (line 6)) (7.0.1)\n",
      "Requirement already satisfied: mpmath<1.4,>=1.1.0 in /opt/anaconda3/envs/ai-study/lib/python3.9/site-packages (from sympy->torch>=2.0->-r requirements.txt (line 4)) (1.3.0)\n",
      "Requirement already satisfied: dnspython>=2.0.0 in /opt/anaconda3/envs/ai-study/lib/python3.9/site-packages (from email_validator>=2.0.0->fastapi->gradio->-r requirements.txt (line 5)) (2.6.1)\n",
      "Requirement already satisfied: smmap<6,>=3.0.1 in /opt/anaconda3/envs/ai-study/lib/python3.9/site-packages (from gitdb<5,>=4.0.1->gitpython!=3.1.19,<4,>=3.0.7->streamlit>=1.24.0->-r requirements.txt (line 10)) (5.0.1)\n",
      "Requirement already satisfied: attrs>=22.2.0 in /opt/anaconda3/envs/ai-study/lib/python3.9/site-packages (from jsonschema>=3.0->altair<6,>=4.0->streamlit>=1.24.0->-r requirements.txt (line 10)) (23.1.0)\n",
      "Requirement already satisfied: jsonschema-specifications>=2023.03.6 in /opt/anaconda3/envs/ai-study/lib/python3.9/site-packages (from jsonschema>=3.0->altair<6,>=4.0->streamlit>=1.24.0->-r requirements.txt (line 10)) (2023.7.1)\n",
      "Requirement already satisfied: referencing>=0.28.4 in /opt/anaconda3/envs/ai-study/lib/python3.9/site-packages (from jsonschema>=3.0->altair<6,>=4.0->streamlit>=1.24.0->-r requirements.txt (line 10)) (0.30.2)\n",
      "Requirement already satisfied: rpds-py>=0.7.1 in /opt/anaconda3/envs/ai-study/lib/python3.9/site-packages (from jsonschema>=3.0->altair<6,>=4.0->streamlit>=1.24.0->-r requirements.txt (line 10)) (0.10.6)\n",
      "Requirement already satisfied: mdurl~=0.1 in /opt/anaconda3/envs/ai-study/lib/python3.9/site-packages (from markdown-it-py>=2.2.0->rich<14,>=10.14.0->streamlit>=1.24.0->-r requirements.txt (line 10)) (0.1.2)\n",
      "Requirement already satisfied: six>=1.5 in /opt/anaconda3/envs/ai-study/lib/python3.9/site-packages (from python-dateutil>=2.7->matplotlib~=3.0->gradio->-r requirements.txt (line 5)) (1.16.0)\n",
      "Requirement already satisfied: httptools>=0.5.0 in /opt/anaconda3/envs/ai-study/lib/python3.9/site-packages (from uvicorn[standard]>=0.12.0->fastapi->gradio->-r requirements.txt (line 5)) (0.6.1)\n",
      "Requirement already satisfied: python-dotenv>=0.13 in /opt/anaconda3/envs/ai-study/lib/python3.9/site-packages (from uvicorn[standard]>=0.12.0->fastapi->gradio->-r requirements.txt (line 5)) (1.0.1)\n",
      "Requirement already satisfied: uvloop!=0.15.0,!=0.15.1,>=0.14.0 in /opt/anaconda3/envs/ai-study/lib/python3.9/site-packages (from uvicorn[standard]>=0.12.0->fastapi->gradio->-r requirements.txt (line 5)) (0.19.0)\n",
      "Requirement already satisfied: watchfiles>=0.13 in /opt/anaconda3/envs/ai-study/lib/python3.9/site-packages (from uvicorn[standard]>=0.12.0->fastapi->gradio->-r requirements.txt (line 5)) (0.22.0)\n",
      "Using cached transformers-4.30.2-py3-none-any.whl (7.2 MB)\n",
      "Using cached tokenizers-0.13.3-cp39-cp39-macosx_10_11_x86_64.whl (4.0 MB)\n",
      "Installing collected packages: tokenizers, transformers\n",
      "  Attempting uninstall: tokenizers\n",
      "    Found existing installation: tokenizers 0.19.1\n",
      "    Uninstalling tokenizers-0.19.1:\n",
      "      Successfully uninstalled tokenizers-0.19.1\n",
      "Successfully installed tokenizers-0.13.3 transformers-4.30.2\n",
      "Note: you may need to restart the kernel to use updated packages.\n"
     ]
    }
   ],
   "source": [
    "pip install -r requirements.txt"
   ]
  },
  {
   "cell_type": "code",
   "execution_count": 4,
   "id": "8e172471-a01f-4556-a296-41aef3a239a6",
   "metadata": {},
   "outputs": [
    {
     "name": "stderr",
     "output_type": "stream",
     "text": [
      "/opt/anaconda3/envs/ai-study/lib/python3.9/site-packages/tqdm/auto.py:21: TqdmWarning: IProgress not found. Please update jupyter and ipywidgets. See https://ipywidgets.readthedocs.io/en/stable/user_install.html\n",
      "  from .autonotebook import tqdm as notebook_tqdm\n",
      "Failed to load cpm_kernels:Unknown platform: darwin\n",
      "/Users/imac/.cache/huggingface/modules/transformers_modules/chatglm2-6b-int4/quantization_kernels_parallel.c:1:10: fatal error: 'omp.h' file not found\n",
      "#include <omp.h>\n",
      "         ^~~~~~~\n",
      "1 error generated.\n",
      "Compile parallel cpu kernel clang -O3 -fPIC -pthread -Xclang -fopenmp -lomp -std=c99 /Users/imac/.cache/huggingface/modules/transformers_modules/chatglm2-6b-int4/quantization_kernels_parallel.c -shared -o /Users/imac/.cache/huggingface/modules/transformers_modules/chatglm2-6b-int4/quantization_kernels_parallel.so failed.\n"
     ]
    }
   ],
   "source": [
    "from transformers import AutoTokenizer, AutoModel\n",
    "model_name = \"../models/chatglm2-6b-int4\"\n",
    "tokenizer = AutoTokenizer.from_pretrained(model_name, trust_remote_code=True)\n",
    "model = AutoModel.from_pretrained(model_name, trust_remote_code=True).float()\n",
    "model = model.eval()"
   ]
  },
  {
   "cell_type": "code",
   "execution_count": 5,
   "id": "92e5725a-104f-45e5-997c-32e0e293d570",
   "metadata": {},
   "outputs": [
    {
     "name": "stdout",
     "output_type": "stream",
     "text": [
      "你好👋！我是人工智能助手 ChatGLM2-6B，很高兴见到你，欢迎问我任何问题。\n"
     ]
    }
   ],
   "source": [
    "response, history = model.chat(tokenizer, \"你好\", history=[])\n",
    "print(response)"
   ]
  },
  {
   "cell_type": "code",
   "execution_count": 6,
   "id": "990badd9-a4d6-4ca8-8985-846e3811e2d2",
   "metadata": {},
   "outputs": [
    {
     "name": "stdout",
     "output_type": "stream",
     "text": [
      "我能回答问题、完成任务、提供信息和建议等。具体来说，我可以与用户进行对话，回答他们的问题，帮助他们解决问题；我可以自动完成一些任务，如查找资料、翻译、编辑文本等；我也可以提供一些信息，例如新闻、天气、汇率等。\n"
     ]
    }
   ],
   "source": [
    "response, history = model.chat(tokenizer, \"你能做什么？\", history=history)\n",
    "print(response)"
   ]
  },
  {
   "cell_type": "code",
   "execution_count": null,
   "id": "631a6466-cb66-46a9-bdc0-a18ef894e711",
   "metadata": {},
   "outputs": [],
   "source": []
  }
 ],
 "metadata": {
  "kernelspec": {
   "display_name": "Python 3 (ipykernel)",
   "language": "python",
   "name": "python3"
  },
  "language_info": {
   "codemirror_mode": {
    "name": "ipython",
    "version": 3
   },
   "file_extension": ".py",
   "mimetype": "text/x-python",
   "name": "python",
   "nbconvert_exporter": "python",
   "pygments_lexer": "ipython3",
   "version": "3.9.19"
  }
 },
 "nbformat": 4,
 "nbformat_minor": 5
}
