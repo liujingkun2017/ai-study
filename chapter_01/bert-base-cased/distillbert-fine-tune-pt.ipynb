{
 "cells": [
  {
   "cell_type": "markdown",
   "id": "5191233e-94c8-4e50-b20a-71360b0cd405",
   "metadata": {},
   "source": [
    "# **distilbert-base-uncased基于PyTorch做微调训练**"
   ]
  },
  {
   "cell_type": "markdown",
   "id": "c39ddffa-6af8-46aa-a64b-bc705ebd46c2",
   "metadata": {},
   "source": [
    "# 1.安装环境"
   ]
  },
  {
   "cell_type": "code",
   "execution_count": null,
   "id": "d02ca662-4761-4497-b789-08d518478d2b",
   "metadata": {},
   "outputs": [],
   "source": [
    "%%writefile requirements.txt\n",
    "datasets\n",
    "transformers\n",
    "evaluate\n",
    "torch\n",
    "torchvision\n",
    "torchaudio"
   ]
  },
  {
   "cell_type": "code",
   "execution_count": null,
   "id": "54d87635-5598-4707-bf84-446c80aa124d",
   "metadata": {},
   "outputs": [],
   "source": [
    "pip install -r requirements.txt"
   ]
  },
  {
   "cell_type": "markdown",
   "id": "8401481b-02c1-44c0-af7c-ddb9c7dc7478",
   "metadata": {},
   "source": [
    "# 2.加载数据集\n",
    "## 数据集已经提前下载到本地"
   ]
  },
  {
   "cell_type": "code",
   "execution_count": null,
   "id": "91b01129-4829-4c6d-a988-85bff89f3c53",
   "metadata": {},
   "outputs": [],
   "source": [
    "from datasets import load_dataset\n",
    "\n",
    "# 远程拉取\n",
    "# dataset = load_dataset(\"yelp_review_full\")\n",
    "\n",
    "dataset = load_dataset(\n",
    "    'parquet',\n",
    "    data_files={\n",
    "        'train': '../datasets/yelp_review_full/train-00000-of-00001.parquet',\n",
    "        'test': '../datasets/yelp_review_full/test-00000-of-00001.parquet'\n",
    "    }\n",
    ")\n",
    "\n",
    "dataset[\"train\"][100]"
   ]
  },
  {
   "cell_type": "markdown",
   "id": "4ca8db1c-6d45-4d56-96e2-cc7ddbab5c9b",
   "metadata": {},
   "source": [
    "## 文本分词"
   ]
  },
  {
   "cell_type": "code",
   "execution_count": null,
   "id": "bd5f0545-e8a4-4e4f-b6c7-4d1ed547adb1",
   "metadata": {},
   "outputs": [],
   "source": [
    "from transformers import AutoTokenizer\n",
    "\n",
    "tokenizer = AutoTokenizer.from_pretrained(\"../models/distilbert-base-uncased\")\n",
    "\n",
    "\n",
    "def tokenize_function(examples):\n",
    "    return tokenizer(examples[\"text\"], padding=\"max_length\", truncation=True)\n",
    "\n",
    "\n",
    "tokenized_datasets = dataset.map(tokenize_function, batched=True)"
   ]
  },
  {
   "cell_type": "markdown",
   "id": "b10e7ef9-7a4b-4c5c-8478-df7a984d4f84",
   "metadata": {},
   "source": [
    "## 数据处理"
   ]
  },
  {
   "cell_type": "code",
   "execution_count": null,
   "id": "de541131-eb15-4b07-9b9b-ec7d4cdf9216",
   "metadata": {},
   "outputs": [],
   "source": [
    "tokenized_datasets = tokenized_datasets.remove_columns([\"text\"])\n",
    "tokenized_datasets = tokenized_datasets.rename_column(\"label\", \"labels\")\n",
    "tokenized_datasets.set_format(\"torch\")"
   ]
  },
  {
   "cell_type": "markdown",
   "id": "68046d4c-9313-46aa-9969-a7d0033a6dd7",
   "metadata": {},
   "source": [
    "## 数据筛选"
   ]
  },
  {
   "cell_type": "code",
   "execution_count": null,
   "id": "64d0ffb3-6fb5-4ee4-94a7-3d91ce2bc397",
   "metadata": {},
   "outputs": [],
   "source": [
    "small_train_dataset = tokenized_datasets[\"train\"].shuffle(seed=42).select(range(100))\n",
    "small_eval_dataset = tokenized_datasets[\"test\"].shuffle(seed=42).select(range(100))"
   ]
  },
  {
   "cell_type": "markdown",
   "id": "7efc57c5-184b-4a1c-aaa3-86bb6cd5f012",
   "metadata": {},
   "source": [
    "## 加载数据"
   ]
  },
  {
   "cell_type": "code",
   "execution_count": null,
   "id": "1da83f41-486d-4619-9b78-e3d08fd1371d",
   "metadata": {},
   "outputs": [],
   "source": [
    "from torch.utils.data import DataLoader\n",
    "\n",
    "train_dataloader = DataLoader(small_train_dataset, shuffle=True, batch_size=4)\n",
    "eval_dataloader = DataLoader(small_eval_dataset, batch_size=4)"
   ]
  },
  {
   "cell_type": "markdown",
   "id": "11e9bb99-2cad-4e6d-a63c-6f0de327ac47",
   "metadata": {},
   "source": [
    "# 3.准备训练"
   ]
  },
  {
   "cell_type": "code",
   "execution_count": null,
   "id": "449a6081-c6f6-443d-a15f-cf0e9de7320d",
   "metadata": {},
   "outputs": [],
   "source": [
    "from transformers import AutoModelForSequenceClassification\n",
    "\n",
    "model = AutoModelForSequenceClassification.from_pretrained(\"../models/distilbert-base-uncased\", num_labels=5)"
   ]
  },
  {
   "cell_type": "code",
   "execution_count": null,
   "id": "0b069920-56c0-49b4-b36c-9ec2a13a71f4",
   "metadata": {},
   "outputs": [],
   "source": [
    "from torch.optim import AdamW\n",
    "\n",
    "optimizer = AdamW(model.parameters(), lr=5e-5)"
   ]
  },
  {
   "cell_type": "code",
   "execution_count": null,
   "id": "c1f4b541-4b7b-4b5b-9412-812a16d394a2",
   "metadata": {},
   "outputs": [],
   "source": [
    "from transformers import get_scheduler\n",
    "\n",
    "num_epochs = 3\n",
    "num_training_steps = num_epochs * len(train_dataloader)\n",
    "lr_scheduler = get_scheduler(\n",
    "    name=\"linear\", optimizer=optimizer, num_warmup_steps=0, num_training_steps=num_training_steps\n",
    ")"
   ]
  },
  {
   "cell_type": "code",
   "execution_count": null,
   "id": "6f15db5c-2d3c-4d56-915e-8190ea81f772",
   "metadata": {},
   "outputs": [],
   "source": [
    "import torch\n",
    "\n",
    "device = torch.device(\"cuda\") if torch.cuda.is_available() else torch.device(\"cpu\")\n",
    "print(device)\n",
    "model.to(device)"
   ]
  },
  {
   "cell_type": "markdown",
   "id": "5125322e-a66b-46ff-b5fc-b948e5f8f10c",
   "metadata": {},
   "source": [
    "# 4.开始训练"
   ]
  },
  {
   "cell_type": "code",
   "execution_count": null,
   "id": "4e5807da-4bd5-4363-920f-dc6c14aecd7d",
   "metadata": {},
   "outputs": [],
   "source": [
    "from tqdm.auto import tqdm\n",
    "\n",
    "progress_bar = tqdm(range(num_training_steps))\n",
    "\n",
    "model.train()\n",
    "for epoch in range(num_epochs):\n",
    "    for batch in train_dataloader:\n",
    "        batch = {k: v.to(device) for k, v in batch.items()}\n",
    "        outputs = model(**batch)\n",
    "        loss = outputs.loss\n",
    "        loss.backward()\n",
    "\n",
    "        optimizer.step()\n",
    "        lr_scheduler.step()\n",
    "        optimizer.zero_grad()\n",
    "        progress_bar.update(1)"
   ]
  },
  {
   "cell_type": "markdown",
   "id": "9e8eea14-c05f-48f9-9947-5799e16f2098",
   "metadata": {},
   "source": [
    "# 5.训练评估"
   ]
  },
  {
   "cell_type": "code",
   "execution_count": null,
   "id": "28e06d30-0391-40ea-bf5a-1ac7e1d79557",
   "metadata": {},
   "outputs": [],
   "source": [
    "import evaluate\n",
    "\n",
    "metric = evaluate.load(\"accuracy\")\n",
    "model.eval()\n",
    "for batch in eval_dataloader:\n",
    "    batch = {k: v.to(device) for k, v in batch.items()}\n",
    "    with torch.no_grad():\n",
    "        outputs = model(**batch)\n",
    "\n",
    "    logits = outputs.logits\n",
    "    predictions = torch.argmax(logits, dim=-1)\n",
    "    metric.add_batch(predictions=predictions, references=batch[\"labels\"])\n",
    "\n",
    "metric.compute()"
   ]
  },
  {
   "cell_type": "markdown",
   "id": "4a6afe82-83d0-4cb0-ad84-6999c074df66",
   "metadata": {},
   "source": [
    "# 6.清理环境"
   ]
  },
  {
   "cell_type": "code",
   "execution_count": null,
   "id": "0e80070b-f74d-472a-975e-b121de72afba",
   "metadata": {},
   "outputs": [],
   "source": [
    "del model\n",
    "del tokenizer\n",
    "del dataset\n",
    "del tokenized_datasets\n",
    "del small_train_dataset\n",
    "del small_eval_dataset\n",
    "del train_dataloader\n",
    "del eval_dataloader"
   ]
  },
  {
   "cell_type": "code",
   "execution_count": null,
   "id": "9dcefce3-3300-4d49-87ff-55790141ba2a",
   "metadata": {},
   "outputs": [],
   "source": [
    "pip uninstall -y -r requirements.txt"
   ]
  },
  {
   "cell_type": "code",
   "execution_count": null,
   "id": "d7e606da-5d88-4945-9713-35c8f233130c",
   "metadata": {},
   "outputs": [],
   "source": [
    "rm -rf requirements.txt"
   ]
  }
 ],
 "metadata": {
  "kernelspec": {
   "display_name": "Python 3 (ipykernel)",
   "language": "python",
   "name": "python3"
  },
  "language_info": {
   "codemirror_mode": {
    "name": "ipython",
    "version": 3
   },
   "file_extension": ".py",
   "mimetype": "text/x-python",
   "name": "python",
   "nbconvert_exporter": "python",
   "pygments_lexer": "ipython3",
   "version": "3.9.19"
  }
 },
 "nbformat": 4,
 "nbformat_minor": 5
}
