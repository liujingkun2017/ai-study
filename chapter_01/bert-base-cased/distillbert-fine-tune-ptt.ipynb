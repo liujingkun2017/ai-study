{
 "cells": [
  {
   "cell_type": "markdown",
   "id": "6df73c75-beaf-4c6c-8f98-1a2cafcf9a9d",
   "metadata": {},
   "source": [
    "# **distilbert-base-uncased基于PyTorch Trainer做微调训练**"
   ]
  },
  {
   "cell_type": "markdown",
   "id": "a62ff585-7b92-45e5-bcf0-1e3e3e4dedf7",
   "metadata": {},
   "source": [
    "# 1.安装环境"
   ]
  },
  {
   "cell_type": "code",
   "execution_count": null,
   "id": "8264ea42-1398-42a8-9621-3beb9db4ced7",
   "metadata": {},
   "outputs": [],
   "source": [
    "%%writefile requirements.txt\n",
    "datasets\n",
    "transformers\n",
    "evaluate\n",
    "accelerate\n",
    "scikit-learn\n",
    "torch\n",
    "torchvision\n",
    "torchaudio"
   ]
  },
  {
   "cell_type": "code",
   "execution_count": null,
   "id": "54d87635-5598-4707-bf84-446c80aa124d",
   "metadata": {},
   "outputs": [],
   "source": [
    "pip install -r requirements.txt"
   ]
  },
  {
   "cell_type": "markdown",
   "id": "fb9bc4ee-4204-4c40-b722-a73832bf82ed",
   "metadata": {},
   "source": [
    "# 2.加载数据"
   ]
  },
  {
   "cell_type": "code",
   "execution_count": null,
   "id": "91b01129-4829-4c6d-a988-85bff89f3c53",
   "metadata": {},
   "outputs": [],
   "source": [
    "from datasets import load_dataset\n",
    "\n",
    "# 远程拉取\n",
    "# dataset = load_dataset(\"yelp_review_full\")\n",
    "\n",
    "dataset = load_dataset(\n",
    "    'parquet',\n",
    "    data_files={\n",
    "        'train': '../datasets/yelp_review_full/train-00000-of-00001.parquet',\n",
    "        'test': '../datasets/yelp_review_full/test-00000-of-00001.parquet'\n",
    "    }\n",
    ")\n",
    "\n",
    "dataset[\"train\"][100]"
   ]
  },
  {
   "cell_type": "code",
   "execution_count": null,
   "id": "bd5f0545-e8a4-4e4f-b6c7-4d1ed547adb1",
   "metadata": {},
   "outputs": [],
   "source": [
    "from transformers import AutoTokenizer\n",
    "\n",
    "tokenizer = AutoTokenizer.from_pretrained(\"../models/distilbert-base-uncased\")\n",
    "\n",
    "\n",
    "def tokenize_function(examples):\n",
    "    return tokenizer(examples[\"text\"], padding=\"max_length\", truncation=True)\n",
    "\n",
    "\n",
    "tokenized_datasets = dataset.map(tokenize_function, batched=True)"
   ]
  },
  {
   "cell_type": "code",
   "execution_count": null,
   "id": "64d0ffb3-6fb5-4ee4-94a7-3d91ce2bc397",
   "metadata": {},
   "outputs": [],
   "source": [
    "small_train_dataset = tokenized_datasets[\"train\"].shuffle(seed=42).select(range(100))\n",
    "small_eval_dataset = tokenized_datasets[\"test\"].shuffle(seed=42).select(range(100))"
   ]
  },
  {
   "cell_type": "markdown",
   "id": "b515c164-f0d3-41f7-9c84-938e55dde513",
   "metadata": {},
   "source": [
    "# 3.加载模型"
   ]
  },
  {
   "cell_type": "code",
   "execution_count": null,
   "id": "c888d840-5635-4921-bab3-53ab00a1677e",
   "metadata": {},
   "outputs": [],
   "source": [
    "from transformers import AutoModelForSequenceClassification\n",
    "\n",
    "model = AutoModelForSequenceClassification.from_pretrained(\"../models/distilbert-base-uncased\", num_labels=5)"
   ]
  },
  {
   "cell_type": "markdown",
   "id": "f8536385-f96b-4e1f-8462-82ae7acfb6b3",
   "metadata": {},
   "source": [
    "# 4.准备训练"
   ]
  },
  {
   "cell_type": "code",
   "execution_count": null,
   "id": "3aff9122-f69d-4cdf-9fbd-206d8d71c86f",
   "metadata": {},
   "outputs": [],
   "source": [
    "from transformers import TrainingArguments, Trainer\n",
    "\n",
    "training_args = TrainingArguments(\n",
    "    num_train_epochs=12,\n",
    "    per_device_train_batch_size=2,\n",
    "    per_device_eval_batch_size=2,\n",
    "    gradient_accumulation_steps=8,\n",
    "    output_dir=\"trained_model\"\n",
    ")"
   ]
  },
  {
   "cell_type": "code",
   "execution_count": null,
   "id": "04026c73-d158-45b4-a432-f11b7e0d8d47",
   "metadata": {},
   "outputs": [],
   "source": [
    "import numpy as np\n",
    "import evaluate\n",
    "\n",
    "metric = evaluate.load(\"accuracy\")"
   ]
  },
  {
   "cell_type": "code",
   "execution_count": null,
   "id": "f00e0c41-fa67-4cdd-a5c6-52dd614bb040",
   "metadata": {},
   "outputs": [],
   "source": [
    "def compute_metrics(eval_pred):\n",
    "    logits, labels = eval_pred\n",
    "    predictions = np.argmax(logits, axis=-1)\n",
    "    return metric.compute(predictions=predictions, references=labels)"
   ]
  },
  {
   "cell_type": "code",
   "execution_count": null,
   "id": "7b0a7eb0-7d08-4ced-93fa-1b24a9232223",
   "metadata": {},
   "outputs": [],
   "source": [
    "trainer = Trainer(\n",
    "    model=model,\n",
    "    args=training_args,\n",
    "    train_dataset=small_train_dataset,\n",
    "    eval_dataset=small_eval_dataset,\n",
    "    compute_metrics=compute_metrics,\n",
    ")"
   ]
  },
  {
   "cell_type": "markdown",
   "id": "539518ba-3e9d-4ef0-975c-4d1ec2d6c554",
   "metadata": {},
   "source": [
    "# 5.开始训练"
   ]
  },
  {
   "cell_type": "code",
   "execution_count": null,
   "id": "cee0988f-974f-4085-99fd-8aec9968fa34",
   "metadata": {},
   "outputs": [],
   "source": [
    "trainer.train()"
   ]
  },
  {
   "cell_type": "markdown",
   "id": "a2bc74d1-fc12-437e-99e3-29d4e9354dae",
   "metadata": {},
   "source": [
    "# 6.测试训练结果"
   ]
  },
  {
   "cell_type": "code",
   "execution_count": null,
   "id": "441f1342-53ae-4d8c-8ac7-af0af4c1a5d7",
   "metadata": {},
   "outputs": [],
   "source": [
    "# 文本特征提取\n",
    "from transformers import DistilBertTokenizer, DistilBertModel\n",
    "trained_tokenizer = DistilBertTokenizer.from_pretrained(\"../models/distilbert-base-uncased\")\n",
    "trained_model = DistilBertModel.from_pretrained(\"trained_model/checkpoint-72\")\n",
    "text = \"Replace me by any text you'd like.\"\n",
    "encoded_input = trained_tokenizer(text, return_tensors='pt')\n",
    "outputs = trained_model(**encoded_input)\n",
    "print(outputs)"
   ]
  },
  {
   "cell_type": "code",
   "execution_count": null,
   "id": "7154da59-cec6-4429-8a8a-c4bd5736b705",
   "metadata": {},
   "outputs": [],
   "source": [
    "# 遮罩语言建模\n",
    "from transformers import pipeline\n",
    "\n",
    "from transformers import pipeline\n",
    "unmasker = pipeline('fill-mask', model=\"../models/distilbert-base-uncased\")\n",
    "unmasker(\"Hello I'm a [MASK] model.\")"
   ]
  },
  {
   "cell_type": "code",
   "execution_count": null,
   "id": "0c0b1dd2-fd79-4167-aec4-d2b720286d36",
   "metadata": {},
   "outputs": [],
   "source": [
    "unmasker = pipeline('fill-mask', model='trained_model/checkpoint-72', tokenizer=tokenizer)\n",
    "unmasker(\"Hello I'm a [MASK] model.\")"
   ]
  },
  {
   "cell_type": "markdown",
   "id": "c7c0d5e1-7e95-4e85-bea0-b9fcae8719bf",
   "metadata": {},
   "source": [
    "# 7.清理环境"
   ]
  },
  {
   "cell_type": "code",
   "execution_count": null,
   "id": "c35f9805-17c4-4bd6-afba-ac7d538262b9",
   "metadata": {},
   "outputs": [],
   "source": [
    "del model\n",
    "del trained_model\n",
    "del tokenizer\n",
    "\n",
    "del dataset\n",
    "del tokenized_datasets\n",
    "del small_train_dataset\n",
    "del small_eval_dataset"
   ]
  },
  {
   "cell_type": "code",
   "execution_count": null,
   "id": "124ac8c9-4660-4e43-ae06-abff85f3637a",
   "metadata": {},
   "outputs": [],
   "source": [
    "pip uninstall -y -r requirements.txt"
   ]
  },
  {
   "cell_type": "code",
   "execution_count": null,
   "id": "47e40da4-ff8d-4293-8206-3c2f07006519",
   "metadata": {},
   "outputs": [],
   "source": [
    "rm -rf requirements.txt"
   ]
  }
 ],
 "metadata": {
  "kernelspec": {
   "display_name": "Python 3 (ipykernel)",
   "language": "python",
   "name": "python3"
  },
  "language_info": {
   "codemirror_mode": {
    "name": "ipython",
    "version": 3
   },
   "file_extension": ".py",
   "mimetype": "text/x-python",
   "name": "python",
   "nbconvert_exporter": "python",
   "pygments_lexer": "ipython3",
   "version": "3.9.19"
  }
 },
 "nbformat": 4,
 "nbformat_minor": 5
}
