{
 "cells": [
  {
   "cell_type": "code",
   "execution_count": null,
   "id": "67e8a756-ce78-484d-aadd-92e9ca539673",
   "metadata": {},
   "outputs": [],
   "source": [
    "conda env list"
   ]
  },
  {
   "cell_type": "code",
   "execution_count": null,
   "id": "54d87635-5598-4707-bf84-446c80aa124d",
   "metadata": {},
   "outputs": [],
   "source": [
    "pip install datasets transformers evaluate"
   ]
  },
  {
   "cell_type": "code",
   "execution_count": null,
   "id": "91b01129-4829-4c6d-a988-85bff89f3c53",
   "metadata": {},
   "outputs": [],
   "source": [
    "from datasets import load_dataset\n",
    "\n",
    "# 远程拉取\n",
    "# dataset = load_dataset(\"yelp_review_full\")\n",
    "\n",
    "dataset = load_dataset(\n",
    "    'parquet',\n",
    "    data_files={\n",
    "        'train': '../datasets/yelp_review_full/train-00000-of-00001.parquet',\n",
    "        'test': '../datasets/yelp_review_full/test-00000-of-00001.parquet'\n",
    "    }\n",
    ")\n",
    "\n",
    "dataset[\"train\"][100]"
   ]
  },
  {
   "cell_type": "code",
   "execution_count": null,
   "id": "bd5f0545-e8a4-4e4f-b6c7-4d1ed547adb1",
   "metadata": {},
   "outputs": [],
   "source": [
    "from transformers import AutoTokenizer\n",
    "\n",
    "tokenizer = AutoTokenizer.from_pretrained(\"../models/distilbert-base-uncased\")\n",
    "\n",
    "\n",
    "def tokenize_function(examples):\n",
    "    return tokenizer(examples[\"text\"], padding=\"max_length\", truncation=True)\n",
    "\n",
    "\n",
    "tokenized_datasets = dataset.map(tokenize_function, batched=True)"
   ]
  },
  {
   "cell_type": "code",
   "execution_count": null,
   "id": "64d0ffb3-6fb5-4ee4-94a7-3d91ce2bc397",
   "metadata": {},
   "outputs": [],
   "source": [
    "small_train_dataset = tokenized_datasets[\"train\"].shuffle(seed=42).select(range(500))\n",
    "small_eval_dataset = tokenized_datasets[\"test\"].shuffle(seed=42).select(range(500))"
   ]
  },
  {
   "cell_type": "code",
   "execution_count": null,
   "id": "bd9e01b9-e107-4ecf-9419-c9ed9ac9ca68",
   "metadata": {},
   "outputs": [],
   "source": [
    "pip install torch torchvision torchaudio"
   ]
  },
  {
   "cell_type": "code",
   "execution_count": null,
   "id": "c888d840-5635-4921-bab3-53ab00a1677e",
   "metadata": {},
   "outputs": [],
   "source": [
    "from transformers import AutoModelForSequenceClassification\n",
    "\n",
    "model = AutoModelForSequenceClassification.from_pretrained(\"../models/distilbert-base-uncased\", num_labels=5)"
   ]
  },
  {
   "cell_type": "code",
   "execution_count": null,
   "id": "0bfe6c56-1584-4a14-a861-632887065ba6",
   "metadata": {},
   "outputs": [],
   "source": [
    "try:\n",
    "    from transformers.utils import is_torch_mlu_available\n",
    "except ImportError:\n",
    "    def is_torch_mlu_available():\n",
    "        print(\"false\")\n",
    "        return False  # 或其他默认值或行为\n"
   ]
  },
  {
   "cell_type": "code",
   "execution_count": null,
   "id": "114c2763-0baf-49c7-9a04-4a88482774ab",
   "metadata": {},
   "outputs": [],
   "source": [
    "pip install accelerate -U"
   ]
  },
  {
   "cell_type": "code",
   "execution_count": null,
   "id": "3aff9122-f69d-4cdf-9fbd-206d8d71c86f",
   "metadata": {},
   "outputs": [],
   "source": [
    "from transformers import TrainingArguments, Trainer\n",
    "\n",
    "training_args = TrainingArguments(\n",
    "    num_train_epochs=12,\n",
    "    per_device_train_batch_size=2,\n",
    "    per_device_eval_batch_size=2,\n",
    "    gradient_accumulation_steps=8,\n",
    "    output_dir=\"test_trainer\"\n",
    ")"
   ]
  },
  {
   "cell_type": "code",
   "execution_count": null,
   "id": "1cf8ebf7-3ef6-481b-9f0d-26f83d1e51b5",
   "metadata": {},
   "outputs": [],
   "source": [
    "pip install scikit-learn"
   ]
  },
  {
   "cell_type": "code",
   "execution_count": null,
   "id": "04026c73-d158-45b4-a432-f11b7e0d8d47",
   "metadata": {},
   "outputs": [],
   "source": [
    "import numpy as np\n",
    "import evaluate\n",
    "\n",
    "metric = evaluate.load(\"accuracy\")"
   ]
  },
  {
   "cell_type": "code",
   "execution_count": null,
   "id": "f00e0c41-fa67-4cdd-a5c6-52dd614bb040",
   "metadata": {},
   "outputs": [],
   "source": [
    "def compute_metrics(eval_pred):\n",
    "    logits, labels = eval_pred\n",
    "    predictions = np.argmax(logits, axis=-1)\n",
    "    return metric.compute(predictions=predictions, references=labels)"
   ]
  },
  {
   "cell_type": "code",
   "execution_count": null,
   "id": "7b0a7eb0-7d08-4ced-93fa-1b24a9232223",
   "metadata": {},
   "outputs": [],
   "source": [
    "trainer = Trainer(\n",
    "    model=model,\n",
    "    args=training_args,\n",
    "    train_dataset=small_train_dataset,\n",
    "    eval_dataset=small_eval_dataset,\n",
    "    compute_metrics=compute_metrics,\n",
    ")"
   ]
  },
  {
   "cell_type": "code",
   "execution_count": null,
   "id": "39caed11-c6f8-4f1a-887f-7b918a905f35",
   "metadata": {},
   "outputs": [],
   "source": [
    "import os\n",
    "\n",
    "# 获取环境变量的值\n",
    "high_watermark_ratio = os.getenv('PYTORCH_MPS_HIGH_WATERMARK_RATIO')\n",
    "\n",
    "if high_watermark_ratio is None:\n",
    "    print(\"PYTORCH_MPS_HIGH_WATERMARK_RATIO is not set.\")\n",
    "else:\n",
    "    print(f\"PYTORCH_MPS_HIGH_WATERMARK_RATIO is set to: {high_watermark_ratio}\")\n"
   ]
  },
  {
   "cell_type": "code",
   "execution_count": null,
   "id": "7524bebe-0115-482c-bc7d-b36259b59c0e",
   "metadata": {},
   "outputs": [],
   "source": [
    "os.environ['PYTORCH_MPS_HIGH_WATERMARK_RATIO'] = '0.0'"
   ]
  },
  {
   "cell_type": "code",
   "execution_count": null,
   "id": "cee0988f-974f-4085-99fd-8aec9968fa34",
   "metadata": {},
   "outputs": [],
   "source": [
    "trainer.train()"
   ]
  },
  {
   "cell_type": "code",
   "execution_count": null,
   "id": "441f1342-53ae-4d8c-8ac7-af0af4c1a5d7",
   "metadata": {},
   "outputs": [],
   "source": [
    "# 文本特征提取\n",
    "from transformers import DistilBertTokenizer, DistilBertModel\n",
    "trained_tokenizer = DistilBertTokenizer.from_pretrained(\"../models/distilbert-base-uncased\")\n",
    "trained_model = DistilBertModel.from_pretrained(\"test_trainer/checkpoint-372\")\n",
    "text = \"Replace me by any text you'd like.\"\n",
    "encoded_input = trained_tokenizer(text, return_tensors='pt')\n",
    "outputs = trained_model(**encoded_input)\n",
    "print(outputs)"
   ]
  },
  {
   "cell_type": "code",
   "execution_count": null,
   "id": "7154da59-cec6-4429-8a8a-c4bd5736b705",
   "metadata": {},
   "outputs": [],
   "source": [
    "# 遮罩语言建模\n",
    "from transformers import pipeline\n",
    "\n",
    "from transformers import pipeline\n",
    "unmasker = pipeline('fill-mask', model=\"../models/distilbert-base-uncased\")\n",
    "unmasker(\"Hello I'm a [MASK] model.\")"
   ]
  },
  {
   "cell_type": "code",
   "execution_count": null,
   "id": "0c0b1dd2-fd79-4167-aec4-d2b720286d36",
   "metadata": {},
   "outputs": [],
   "source": [
    "unmasker = pipeline('fill-mask', model='test_trainer/checkpoint-372', tokenizer=tokenizer)\n",
    "unmasker(\"Hello I'm a [MASK] model.\")"
   ]
  }
 ],
 "metadata": {
  "kernelspec": {
   "display_name": "Python 3 (ipykernel)",
   "language": "python",
   "name": "python3"
  },
  "language_info": {
   "codemirror_mode": {
    "name": "ipython",
    "version": 3
   },
   "file_extension": ".py",
   "mimetype": "text/x-python",
   "name": "python",
   "nbconvert_exporter": "python",
   "pygments_lexer": "ipython3",
   "version": "3.9.19"
  }
 },
 "nbformat": 4,
 "nbformat_minor": 5
}
